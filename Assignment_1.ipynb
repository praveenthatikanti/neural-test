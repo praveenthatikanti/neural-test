{
  "nbformat": 4,
  "nbformat_minor": 0,
  "metadata": {
    "colab": {
      "provenance": []
    },
    "kernelspec": {
      "name": "python3",
      "display_name": "Python 3"
    },
    "language_info": {
      "name": "python"
    }
  },
  "cells": [
    {
      "cell_type": "code",
      "execution_count": 1,
      "metadata": {
        "colab": {
          "base_uri": "https://localhost:8080/"
        },
        "id": "Q19S8quRdpqt",
        "outputId": "665ed379-e680-4c8a-ab54-3ba112a98145"
      },
      "outputs": [
        {
          "output_type": "stream",
          "name": "stdout",
          "text": [
            "Enter name= sai t\n",
            "Output= ias\n"
          ]
        }
      ],
      "source": [
        "name=input(\"Enter name= \")\n",
        "name=name[:-2]\n",
        "def rever(str):\n",
        "  return str[::-1]\n",
        "print(\"Output=\",rever(name))"
      ]
    },
    {
      "cell_type": "markdown",
      "source": [
        "2nd"
      ],
      "metadata": {
        "id": "SMly0gsDd11A"
      }
    },
    {
      "cell_type": "code",
      "source": [
        "a=int(input(\"Enter number 1= \"))\n",
        "b=int(input(\"Enter number 2= \"))\n",
        "print(\"Addition= \",(a+b))\n",
        "print(\"Substraction= \",(a-b))\n",
        "print(\"Multiplication= \",(a*b))\n",
        "print(\"Division= \",(a/b))\n",
        "\n"
      ],
      "metadata": {
        "colab": {
          "base_uri": "https://localhost:8080/"
        },
        "id": "5g6N6_7Hd2-l",
        "outputId": "6c1b4ec4-b1e6-465e-e937-e68ee5fd50ac"
      },
      "execution_count": 2,
      "outputs": [
        {
          "output_type": "stream",
          "name": "stdout",
          "text": [
            "Enter number 1= 12\n",
            "Enter number 2= 13\n",
            "Addition=  25\n",
            "Substraction=  -1\n",
            "Multiplication=  156\n",
            "Division=  0.9230769230769231\n"
          ]
        }
      ]
    },
    {
      "cell_type": "markdown",
      "source": [],
      "metadata": {
        "id": "hPEZzvX_d-Nf"
      }
    }
  ]
}